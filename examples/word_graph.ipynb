{
 "cells": [
  {
   "cell_type": "markdown",
   "id": "9990e8fe",
   "metadata": {},
   "source": [
    "# Word Graph Generation Using Graphent Library\n",
    "\n",
    "In this notebook, we demonstrate the functionalities of the `graphent` library by creating a graph where each vertex represents a word. An edge is drawn between two words if they are either one letter different or are anagrams of each other. This concept is taken from the example from \"A First Course in Graph Theory\" by Chartrand and Zhang shown below.\n",
    "\n",
    "![](word_graph_textbook.jpg)"
   ]
  },
  {
   "cell_type": "code",
   "execution_count": 2,
   "id": "6e397cf3",
   "metadata": {},
   "outputs": [],
   "source": [
    "# import libraries\n",
    "from graphent.graph import Graph\n",
    "from graphent import visualize"
   ]
  },
  {
   "cell_type": "markdown",
   "id": "c9de1afd",
   "metadata": {},
   "source": [
    "## Defining Helper Functions\n",
    "\n",
    "Two functions are defined here:\n",
    "- `is_one_letter_off`: Checks if two words differ by exactly one letter.\n",
    "- `is_anagram`: Checks if two words are anagrams of each other."
   ]
  },
  {
   "cell_type": "code",
   "execution_count": null,
   "id": "daabcc89",
   "metadata": {},
   "outputs": [],
   "source": []
  }
 ],
 "metadata": {
  "kernelspec": {
   "display_name": "Python 3 (ipykernel)",
   "language": "python",
   "name": "python3"
  }
 },
 "nbformat": 4,
 "nbformat_minor": 5
}
